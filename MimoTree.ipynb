{
 "cells": [
  {
   "cell_type": "code",
   "execution_count": 83,
   "metadata": {},
   "outputs": [],
   "source": [
    "from mimotree_surface import *\n",
    "from mimotree_alignment import *\n",
    "from mimotree_matching import *\n",
    "from mimotree_clustering import *"
   ]
  },
  {
   "cell_type": "markdown",
   "metadata": {},
   "source": [
    "## Customization"
   ]
  },
  {
   "cell_type": "code",
   "execution_count": 84,
   "metadata": {},
   "outputs": [],
   "source": [
    "agab = '1HX1'\n",
    "chain = 'B'\n",
    "PD_cutoff = 8\n",
    "#distance_param: the maximum alpha-carbon to alpha-carbon distance between two adjacent residues\n",
    "distance_param = 4\n",
    "#mimo_distance_param: an estimated distance between adjacent residues in the mimotope\n",
    "mimo_distance_param = 3.5\n",
    "#maximum PD allowed for filtering seed connections\n",
    "PD_th = 2"
   ]
  },
  {
   "cell_type": "markdown",
   "metadata": {},
   "source": [
    "## Surface Map"
   ]
  },
  {
   "cell_type": "code",
   "execution_count": 85,
   "metadata": {
    "scrolled": true
   },
   "outputs": [
    {
     "data": {
      "text/plain": [
       "{'GLY150': [],\n",
       " 'ASN151': [],\n",
       " 'SER152': [],\n",
       " 'PRO153': [],\n",
       " 'GLN154': [],\n",
       " 'GLU156': [],\n",
       " 'VAL157': [],\n",
       " 'GLU158': [],\n",
       " 'LEU159': [],\n",
       " 'LYS160': [],\n",
       " 'LYS161': [],\n",
       " 'LYS163': [],\n",
       " 'HIS164': [],\n",
       " 'LEU165': [],\n",
       " 'GLU166': [],\n",
       " 'LYS167': [],\n",
       " 'SER168': [],\n",
       " 'GLU170': [],\n",
       " 'LYS171': [],\n",
       " 'ALA173': [],\n",
       " 'ASP174': [],\n",
       " 'GLN175': [],\n",
       " 'GLU177': [],\n",
       " 'GLU178': [],\n",
       " 'ASN180': [],\n",
       " 'LYS181': [],\n",
       " 'GLU182': [],\n",
       " 'LEU183': [],\n",
       " 'THR184': [],\n",
       " 'GLY185': [],\n",
       " 'ILE186': [],\n",
       " 'GLN187': [],\n",
       " 'GLN188': [],\n",
       " 'GLY189': [],\n",
       " 'PHE190': [],\n",
       " 'LEU191': [],\n",
       " 'PRO192': [],\n",
       " 'LYS193': [],\n",
       " 'ASP194': [],\n",
       " 'LEU195': [],\n",
       " 'GLN196': [],\n",
       " 'ALA197': [],\n",
       " 'GLU198': [],\n",
       " 'ALA199': [],\n",
       " 'LEU200': [],\n",
       " 'CYS201': [],\n",
       " 'LYS202': [],\n",
       " 'ASP204': [],\n",
       " 'ARG205': [],\n",
       " 'ARG206': [],\n",
       " 'LYS208': [],\n",
       " 'ALA209': [],\n",
       " 'ILE211': [],\n",
       " 'GLU212': [],\n",
       " 'GLN213': [],\n",
       " 'MET215': [],\n",
       " 'LYS216': [],\n",
       " 'ILE217': [],\n",
       " 'LEU218': [],\n",
       " 'GLU219': [],\n",
       " 'GLU220': [],\n",
       " 'ASP222': [],\n",
       " 'THR223': [],\n",
       " 'LEU224': [],\n",
       " 'ILE225': [],\n",
       " 'PRO227': [],\n",
       " 'GLU228': [],\n",
       " 'ASN229': [],\n",
       " 'PHE230': [],\n",
       " 'LYS231': [],\n",
       " 'ASP232': [],\n",
       " 'ARG234': [],\n",
       " 'LEU235': [],\n",
       " 'LYS236': [],\n",
       " 'ARG237': [],\n",
       " 'LYS238': [],\n",
       " 'GLY239': [],\n",
       " 'VAL241': [],\n",
       " 'LYS242': [],\n",
       " 'LYS243': [],\n",
       " 'GLN245': [],\n",
       " 'ALA246': [],\n",
       " 'PHE247': [],\n",
       " 'LEU248': [],\n",
       " 'ALA249': [],\n",
       " 'GLU250': [],\n",
       " 'ASP252': [],\n",
       " 'THR253': [],\n",
       " 'GLU255': [],\n",
       " 'GLN256': [],\n",
       " 'ASN257': [],\n",
       " 'CYS259': [],\n",
       " 'GLN260': [],\n",
       " 'GLU261': []}"
      ]
     },
     "execution_count": 85,
     "metadata": {},
     "output_type": "execute_result"
    }
   ],
   "source": [
    "#get a SASA file containing the SASAs for each antigen residue with Chimera first\n",
    "#name the SASA file as: agabPDBID_antigenChainID_SASA.txt\n",
    "surface_residue, pdb_df = surface_residue_id(agab+'.pdb',chain,agab+'_'+chain+'_SASA.txt')\n",
    "pdb_df = generate_df(pdb_df, surface_residue, chain)\n",
    "surface_dict = initial_graph(surface_residue, pdb_df, chain)\n",
    "surface_dict #initialized empty surface map with each surface residue as a key"
   ]
  },
  {
   "cell_type": "code",
   "execution_count": 99,
   "metadata": {},
   "outputs": [
    {
     "name": "stderr",
     "output_type": "stream",
     "text": [
      "100%|███████████████████████████████████████████| 80/80 [00:22<00:00,  3.58it/s]\n"
     ]
    }
   ],
   "source": [
    "#calculate the CA-CA distances between each two residues and save the values in a file\n",
    "pdtxt = open('pairs_CA_distance_'+agab+'.txt','w')\n",
    "idx_list = pdb_df['residue_number'].tolist() \n",
    "idx_list = sorted(set(idx_list),key=idx_list.index)\n",
    "for k in tqdm(range(len(idx_list)-1)):\n",
    "    for h in range(k+1, len(idx_list)):\n",
    "        pdtxt.write(residue_distance(idx_list[k],idx_list[h],pdb_df)+'\\n')\n",
    "pdtxt.close()"
   ]
  },
  {
   "cell_type": "code",
   "execution_count": 86,
   "metadata": {},
   "outputs": [],
   "source": [
    "surface_graph = surface_map('pairs_CA_distance_'+agab+'.txt',distance_param,surface_dict)"
   ]
  },
  {
   "cell_type": "code",
   "execution_count": 87,
   "metadata": {
    "scrolled": true
   },
   "outputs": [
    {
     "data": {
      "text/plain": [
       "{'GLY150': ['ASN151'],\n",
       " 'ASN151': ['GLY150', 'SER152'],\n",
       " 'SER152': ['ASN151', 'PRO153'],\n",
       " 'PRO153': ['SER152', 'GLN154'],\n",
       " 'GLN154': ['PRO153'],\n",
       " 'GLU156': ['VAL157'],\n",
       " 'VAL157': ['GLU156', 'GLU158'],\n",
       " 'GLU158': ['VAL157', 'LEU159'],\n",
       " 'LEU159': ['GLU158', 'LYS160'],\n",
       " 'LYS160': ['LEU159', 'LYS161'],\n",
       " 'LYS161': ['LYS160'],\n",
       " 'LYS163': ['HIS164'],\n",
       " 'HIS164': ['LYS163', 'LEU165'],\n",
       " 'LEU165': ['HIS164', 'GLU166'],\n",
       " 'GLU166': ['LEU165', 'LYS167'],\n",
       " 'LYS167': ['GLU166', 'SER168'],\n",
       " 'SER168': ['LYS167'],\n",
       " 'GLU170': ['LYS171'],\n",
       " 'LYS171': ['GLU170'],\n",
       " 'ALA173': ['ASP174'],\n",
       " 'ASP174': ['ALA173', 'GLN175'],\n",
       " 'GLN175': ['ASP174'],\n",
       " 'GLU177': ['GLU178'],\n",
       " 'GLU178': ['GLU177'],\n",
       " 'ASN180': ['LYS181'],\n",
       " 'LYS181': ['ASN180', 'GLU182'],\n",
       " 'GLU182': ['LYS181', 'LEU183'],\n",
       " 'LEU183': ['GLU182', 'THR184'],\n",
       " 'THR184': ['LEU183', 'GLY185'],\n",
       " 'GLY185': ['THR184', 'ILE186'],\n",
       " 'ILE186': ['GLY185', 'GLN187'],\n",
       " 'GLN187': ['ILE186', 'GLN188'],\n",
       " 'GLN188': ['GLN187', 'GLY189'],\n",
       " 'GLY189': ['GLN188', 'PHE190'],\n",
       " 'PHE190': ['GLY189', 'LEU191'],\n",
       " 'LEU191': ['PHE190', 'PRO192'],\n",
       " 'PRO192': ['LEU191', 'LYS193'],\n",
       " 'LYS193': ['PRO192', 'ASP194'],\n",
       " 'ASP194': ['LYS193', 'LEU195'],\n",
       " 'LEU195': ['ASP194', 'GLN196'],\n",
       " 'GLN196': ['LEU195', 'ALA197'],\n",
       " 'ALA197': ['GLN196', 'GLU198'],\n",
       " 'GLU198': ['ALA197', 'ALA199'],\n",
       " 'ALA199': ['GLU198', 'LEU200'],\n",
       " 'LEU200': ['ALA199', 'CYS201'],\n",
       " 'CYS201': ['LEU200', 'LYS202'],\n",
       " 'LYS202': ['CYS201'],\n",
       " 'ASP204': ['ARG205'],\n",
       " 'ARG205': ['ASP204', 'ARG206'],\n",
       " 'ARG206': ['ARG205'],\n",
       " 'LYS208': ['ALA209'],\n",
       " 'ALA209': ['LYS208'],\n",
       " 'ILE211': ['GLU212'],\n",
       " 'GLU212': ['ILE211', 'GLN213'],\n",
       " 'GLN213': ['GLU212'],\n",
       " 'MET215': ['LYS216'],\n",
       " 'LYS216': ['MET215', 'ILE217'],\n",
       " 'ILE217': ['LYS216', 'LEU218'],\n",
       " 'LEU218': ['ILE217', 'GLU219'],\n",
       " 'GLU219': ['LEU218', 'GLU220'],\n",
       " 'GLU220': ['GLU219'],\n",
       " 'ASP222': ['THR223'],\n",
       " 'THR223': ['ASP222', 'LEU224'],\n",
       " 'LEU224': ['THR223', 'ILE225'],\n",
       " 'ILE225': ['LEU224'],\n",
       " 'PRO227': ['GLU228'],\n",
       " 'GLU228': ['PRO227', 'ASN229'],\n",
       " 'ASN229': ['GLU228', 'PHE230'],\n",
       " 'PHE230': ['ASN229', 'LYS231'],\n",
       " 'LYS231': ['PHE230', 'ASP232'],\n",
       " 'ASP232': ['LYS231'],\n",
       " 'ARG234': ['LEU235'],\n",
       " 'LEU235': ['ARG234', 'LYS236'],\n",
       " 'LYS236': ['LEU235', 'ARG237'],\n",
       " 'ARG237': ['LYS236', 'LYS238'],\n",
       " 'LYS238': ['ARG237', 'GLY239'],\n",
       " 'GLY239': ['LYS238'],\n",
       " 'VAL241': ['LYS242'],\n",
       " 'LYS242': ['VAL241', 'LYS243'],\n",
       " 'LYS243': ['LYS242'],\n",
       " 'GLN245': ['ALA246'],\n",
       " 'ALA246': ['GLN245', 'PHE247'],\n",
       " 'PHE247': ['ALA246', 'LEU248'],\n",
       " 'LEU248': ['PHE247', 'ALA249'],\n",
       " 'ALA249': ['LEU248', 'GLU250'],\n",
       " 'GLU250': ['ALA249'],\n",
       " 'ASP252': ['THR253'],\n",
       " 'THR253': ['ASP252'],\n",
       " 'GLU255': ['GLN256'],\n",
       " 'GLN256': ['GLU255', 'ASN257', 'GLU261'],\n",
       " 'ASN257': ['GLN256'],\n",
       " 'CYS259': ['GLN260'],\n",
       " 'GLN260': ['CYS259', 'GLU261'],\n",
       " 'GLU261': ['GLN256', 'GLN260']}"
      ]
     },
     "execution_count": 87,
     "metadata": {},
     "output_type": "execute_result"
    }
   ],
   "source": [
    "surface_graph  # finalized surface map"
   ]
  },
  {
   "cell_type": "markdown",
   "metadata": {},
   "source": [
    "## Epitope Searching"
   ]
  },
  {
   "cell_type": "code",
   "execution_count": 88,
   "metadata": {
    "scrolled": true
   },
   "outputs": [],
   "source": [
    "mimo = import_mimo_data(agab+'_mimotopes.txt')\n",
    "\n",
    "\n",
    "final = []  # final prediction with residue numbers only\n",
    "prediction = []  # final prediction with residue name + residue number\n",
    "all_connection = {}  # all connections of each mimotope\n",
    "\n",
    "for mimo_seq in mimo:\n",
    "    all_connection[mimo_seq] = []\n",
    "    final_connection = []\n",
    "    seeds = generate_seeds(mimo_seq, PD_cutoff, surface_dict) # finds seeds for the current mimotope\n",
    "    \n",
    "    #debugging seeds with residue numbers that are not in order\n",
    "    del_list = []\n",
    "    for se in seeds:\n",
    "        temp = [int(i[2:]) for i in se]\n",
    "        if order(temp) == False:\n",
    "            del_list.append(se)\n",
    "    for dl in del_list:\n",
    "        seeds.remove(dl)\n",
    "    ##\n",
    "\n",
    "    seed_s = generate_connections(seeds, mimo_seq, mimo_distance_param, pdb_df) # find seed connections\n",
    "    \n",
    "\n",
    "    #debugging seed connections that are not in the mimo sequence order\n",
    "    for test in seed_s:\n",
    "        test_temp = ''.join([i[0] for i in test])\n",
    "        if re.search('.*'.join(test_temp), mimo_seq) is not None:\n",
    "            final_connection.append(test)\n",
    "    ##\n",
    "    \n",
    "            \n",
    "    if seeds != []:\n",
    "    \n",
    "        longestseed = max(seeds,key=len)\n",
    "        for x in range(len(seeds)):\n",
    "            if len(seeds[x]) == len(longestseed) and seeds[x] not in final_connection:\n",
    "                final_connection.append(seeds[x]) # ADD the seeds of max length to connections\n",
    "\n",
    "        for ss in final_connection:\n",
    "            if ss not in all_connection[mimo_seq]:\n",
    "                all_connection[mimo_seq].append(ss)\n",
    "\n",
    "\n",
    "con_list = [i for sublist in list(all_connection.values()) for i in sublist]\n",
    "rank_list = sorted([(j, avg_PD(j, pdb_df)) for j in con_list], key=lambda x:x[1])\n",
    "zero_list = [h[0] for h in rank_list if h[1]==0]\n",
    "nonzero_list = [k[0] for k in rank_list if k[1]!=0 and k[1]<=PD_th]\n",
    "for f in zero_list:\n",
    "    for o in f:\n",
    "        if o[2:] not in final:\n",
    "            final.append(o[2:])\n",
    "\n",
    "if nonzero_list != []:            \n",
    "    longest_non = max([len(p) for p in nonzero_list])\n",
    "    non_selected = [l for l in nonzero_list if len(l)==longest_non]\n",
    "    for n in non_selected:\n",
    "        for m in n:\n",
    "            if m[2:] not in final:\n",
    "                final.append(m[2:])"
   ]
  },
  {
   "cell_type": "markdown",
   "metadata": {},
   "source": [
    "## Prediction"
   ]
  },
  {
   "cell_type": "code",
   "execution_count": 89,
   "metadata": {},
   "outputs": [],
   "source": [
    "prediction = show_aa_type(pdb_df, final)"
   ]
  },
  {
   "cell_type": "code",
   "execution_count": 90,
   "metadata": {
    "scrolled": true
   },
   "outputs": [
    {
     "data": {
      "text/plain": [
       "['ARG205',\n",
       " 'ARG206',\n",
       " 'PRO192',\n",
       " 'LEU191',\n",
       " 'PHE247',\n",
       " 'LEU248',\n",
       " 'LYS160',\n",
       " 'LEU159',\n",
       " 'LYS236',\n",
       " 'LEU235',\n",
       " 'ASP204',\n",
       " 'LYS163',\n",
       " 'HIS164',\n",
       " 'VAL241',\n",
       " 'LYS242',\n",
       " 'LYS243',\n",
       " 'LYS161',\n",
       " 'GLU158',\n",
       " 'LEU165',\n",
       " 'GLU166',\n",
       " 'LEU218',\n",
       " 'GLU219',\n",
       " 'GLU182',\n",
       " 'LEU183',\n",
       " 'ARG234',\n",
       " 'ILE217',\n",
       " 'ILE225',\n",
       " 'LEU224',\n",
       " 'LYS216',\n",
       " 'ASN229',\n",
       " 'GLU228']"
      ]
     },
     "execution_count": 90,
     "metadata": {},
     "output_type": "execute_result"
    }
   ],
   "source": [
    "prediction"
   ]
  },
  {
   "cell_type": "code",
   "execution_count": null,
   "metadata": {},
   "outputs": [],
   "source": []
  }
 ],
 "metadata": {
  "kernelspec": {
   "display_name": "Python 3 (ipykernel)",
   "language": "python",
   "name": "python3"
  },
  "language_info": {
   "codemirror_mode": {
    "name": "ipython",
    "version": 3
   },
   "file_extension": ".py",
   "mimetype": "text/x-python",
   "name": "python",
   "nbconvert_exporter": "python",
   "pygments_lexer": "ipython3",
   "version": "3.9.17"
  }
 },
 "nbformat": 4,
 "nbformat_minor": 4
}
